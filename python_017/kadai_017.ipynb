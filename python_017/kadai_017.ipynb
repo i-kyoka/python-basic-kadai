{
  "nbformat": 4,
  "nbformat_minor": 0,
  "metadata": {
    "colab": {
      "provenance": []
    },
    "kernelspec": {
      "name": "python3",
      "display_name": "Python 3"
    },
    "language_info": {
      "name": "python"
    }
  },
  "cells": [
    {
      "cell_type": "code",
      "execution_count": 29,
      "metadata": {
        "colab": {
          "base_uri": "https://localhost:8080/"
        },
        "id": "Qq78S8zHW4Ty",
        "outputId": "9d2718be-fa7e-49f8-8024-1132784c2ba5"
      },
      "outputs": [
        {
          "output_type": "stream",
          "name": "stdout",
          "text": [
            "侍さんは大人です。年齢: 98\n",
            "武士さんは大人です。年齢: 20\n",
            "弟子さんは大人ではありません。年齢: 18\n",
            "赤子さんは大人ではありません。年齢: 3\n"
          ]
        }
      ],
      "source": [
        "class Human:\n",
        "  def __init__(self,name,age):\n",
        "      self.name = name\n",
        "      self.age = age\n",
        "  def checkadult(self):\n",
        "      if self.age >= 20:\n",
        "            print(f\"{self.name}さんは大人です。年齢: {self.age}\")\n",
        "      else:\n",
        "            print(f\"{self.name}さんは大人ではありません。年齢: {self.age}\")\n",
        "\n",
        "human_list = [Human(\"侍\", 98),Human(\"武士\",20),Human(\"弟子\",18),Human(\"赤子\",3)]\n",
        "\n",
        "i = 0\n",
        "\n",
        "while i < len(human_list):\n",
        "    human_list[i].checkadult()\n",
        "    i = i+1\n"
      ]
    }
  ]
}