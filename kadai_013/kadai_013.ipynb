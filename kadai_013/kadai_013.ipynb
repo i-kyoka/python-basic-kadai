{
  "nbformat": 4,
  "nbformat_minor": 0,
  "metadata": {
    "colab": {
      "provenance": []
    },
    "kernelspec": {
      "name": "python3",
      "display_name": "Python 3"
    },
    "language_info": {
      "name": "python"
    }
  },
  "cells": [
    {
      "cell_type": "code",
      "execution_count": 2,
      "metadata": {
        "colab": {
          "base_uri": "https://localhost:8080/"
        },
        "id": "QMivichwOsF0",
        "outputId": "b5e17760-452f-486a-c75a-86325bd28385"
      },
      "outputs": [
        {
          "output_type": "stream",
          "name": "stdout",
          "text": [
            "121.0\n"
          ]
        }
      ],
      "source": [
        "def calucuration(price,tax: int) -> int:\n",
        "    print(price+price*tax/100)\n",
        "\n",
        "calucuration(110,10)"
      ]
    }
  ]
}