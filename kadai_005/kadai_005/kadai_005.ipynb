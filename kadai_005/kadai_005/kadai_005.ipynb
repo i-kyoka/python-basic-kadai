{
  "nbformat": 4,
  "nbformat_minor": 0,
  "metadata": {
    "colab": {
      "provenance": [],
      "toc_visible": true
    },
    "kernelspec": {
      "name": "python3",
      "display_name": "Python 3"
    },
    "language_info": {
      "name": "python"
    }
  },
  "cells": [
    {
      "cell_type": "code",
      "source": [
        "top_side = 10\n",
        "bottom_side = 20\n",
        "height = 5\n",
        "\n",
        "trapezoid = (top_side + bottom_side)*height/2\n",
        "\n",
        "print(f\"{trapezoid}cm²\")"
      ],
      "metadata": {
        "id": "LCK0yzk9WyPf",
        "colab": {
          "base_uri": "https://localhost:8080/"
        },
        "outputId": "97881cf1-e264-4c9a-fe97-2c2cf28bab1f"
      },
      "execution_count": 1,
      "outputs": [
        {
          "output_type": "stream",
          "name": "stdout",
          "text": [
            "75.0cm²\n"
          ]
        }
      ]
    }
  ]
}